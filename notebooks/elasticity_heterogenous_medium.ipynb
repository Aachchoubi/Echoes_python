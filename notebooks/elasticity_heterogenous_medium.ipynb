{
 "cells": [
  {
   "cell_type": "markdown",
   "id": "b9f5339e-3f50-4b83-9fd2-067802f8977c",
   "metadata": {
    "citation-manager": {
     "citations": {
      "3gxmf": [
       {
        "id": "13263233/LK8LHU92",
        "source": "zotero"
       }
      ],
      "660e2": [
       {
        "id": "13263233/UBQHT3SL",
        "source": "zotero"
       }
      ],
      "86v16": [
       {
        "id": "13263233/2R83Z8LA",
        "source": "zotero"
       }
      ],
      "s4ka8": [
       {
        "id": "13263233/PER98KVR",
        "source": "zotero"
       }
      ]
     }
    },
    "tags": []
   },
   "source": [
    "# Homogenization of an elastic heterogeneous medium\n",
    "\n",
    "This notebook does not aim at providing an exhaustive presentation of the theory of homogeneization of random media (see <cite id=\"s4ka8\"><a href=\"#zotero%7C13263233%2FPER98KVR\">(Milton, 2002)</a></cite>, <cite id=\"660e2\"><a href=\"#zotero%7C13263233%2FUBQHT3SL\">(Torquato, 2002)</a></cite> or <cite id=\"86v16\"><a href=\"#zotero%7C13263233%2F2R83Z8LA\">(Kachanov &#38; Sevostianov, 2018)</a></cite> among others) but it aims rather at recalling some of the basic notations and results related to the implementation of the *Echoes* library. In particular the fundamental equations posed on a representative volume element (RVE) such as balance law, constitutive law, strain or stress homogeneous boundary conditions <cite id=\"3gxmf\"><a href=\"#zotero%7C13263233%2FLK8LHU92\">(Zaoui, 2002)</a></cite> are supposedly known."
   ]
  },
  {
   "cell_type": "markdown",
   "id": "0e159bee-4635-4639-bde9-8202e7f6e601",
   "metadata": {
    "citation-manager": {
     "citations": {
      "7lghp": [
       {
        "id": "13263233/LK8LHU92",
        "source": "zotero"
       }
      ],
      "cawf4": [
       {
        "id": "13263233/7SLQVYIR",
        "source": "zotero"
       }
      ],
      "vcne7": [
       {
        "id": "13263233/2R83Z8LA",
        "source": "zotero"
       }
      ]
     }
    },
    "tags": []
   },
   "source": [
    "## Elastic stiffness of a heterogeneous medium\n",
    "\n",
    "Consider a representative volume element (RVE) composed of $N+1$ homogeneous elastic phases. The RVE domain is then a partition of all the phases $\\Omega=\\cup_{i=0}^N\\Omega_i$ $(1\\leq i\\leq N+1)$. The elastic stiffness and compliance of the $i^\\textrm{th}$ phase are respectively denoted by $\\mathbb{C}_i$ and $\\mathbb{S}_i=\\mathbb{C}_i^{-1}$ and $\\mathbb{C}$ and $\\mathbb{S}$ denote the corresponding variable fields within the RVE. The spatial average over a domain $\\omega$ is denoted by $<\\bullet>_\\omega$.\n",
    "\n",
    "### Macroscopic stiffness or compliance tensors\n",
    "\n",
    "Whatever the boundary condition of homogeneous strain or stress type (see <cite id=\"7lghp\"><a href=\"#zotero%7C13263233%2FLK8LHU92\">(Zaoui, 2002)</a></cite>), the linearity of the problem allows to invoke the existence of concentration tensors relating the microscopic strain $\\mathbf{\\varepsilon}$ and stress $\\mathbf{\\sigma}$ fields to the macroscopic strain $\\mathbf{E}$ or stress $\\mathbf{\\Sigma}$ tensors\n",
    "<a id=\"eq-eE\"></a><a id=\"eq-sE\"></a><a id=\"eq-eS\"></a><a id=\"eq-sS\"></a>\n",
    "\\begin{eqnarray}\n",
    "\\mathbf{\\varepsilon} & = & \\mathbb{A}_E:\\mathbf{E} \\tag{eE}\\\\\n",
    "\\mathbf{\\sigma} & = & \\mathbb{B}_E:\\mathbf{E} \\quad\\textrm{with}\\quad \\mathbb{B}_E=\\mathbb{C}:\\mathbb{A}_E \\tag{sE}\\\\\n",
    "\\mathbf{\\sigma} & = & \\mathbb{B}_\\Sigma:\\mathbf{\\Sigma} \\tag{sS}\\\\\n",
    "\\mathbf{\\varepsilon} & = & \\mathbb{A}_\\Sigma:\\mathbf{\\Sigma} \\quad\\textrm{with}\\quad \\mathbb{A}_\\Sigma=\\mathbb{S}:\\mathbb{B}_\\Sigma \\tag{eS}\n",
    "\\end{eqnarray}\n",
    "\n",
    "Injecting the adequate concentration rule in the constitutive laws written in terms of stiffness or compliance tensors leads to the expression of the macroscopic stiffness or compliance\n",
    "<a id=\"eq-macro\"></a>\n",
    "\\begin{equation}\n",
    "\\tag{macro}\n",
    "\\mathbb{C}^\\textrm{hom} = <\\mathbb{C:\\mathbb{A}_E}>_\\Omega \\quad\\textrm{or}\\quad \\mathbb{S}^\\textrm{hom} = <\\mathbb{S:\\mathbb{B}_\\Sigma}>_\\Omega\n",
    "\\end{equation}\n",
    "which can be decomposed over the phases as\n",
    "<a id=\"eq-macrodec\"></a>\n",
    "\\begin{equation}\n",
    "\\tag{macrodec}\n",
    "\\mathbb{C}^\\textrm{hom} = \\sum_{i=0}^N f_i \\mathbb{C}_i:<\\mathbb{A}_E>_{\\Omega_i} \\quad\\textrm{or}\\quad \\mathbb{S}^\\textrm{hom} = \\sum_{i=0}^N f_i \\mathbb{S}_i:<\\mathbb{B}_\\Sigma>_{\\Omega_i}\n",
    "\\end{equation}\n",
    "where $f_i$ is the volume fraction of the $i^\\textrm{th}$ phase. The macroscopic behavior relies then on the knowledge of the averages $\\mathbb{A}_i=<\\mathbb{A}_E>_{\\Omega_i}$ or $\\mathbb{B}_i=<\\mathbb{B}_\\Sigma>_{\\Omega_i}$.\n",
    "\n",
    "### Approach by contribution tensors\n",
    "\n",
    "This alternative equivalent approach to the derivation of macroscopic elastic properties postulates that one phase, say that indexed by $0$ by convenience, plays the particular role of matrix.\n",
    "\n",
    "It is based on an equivalent polarization field in each phase as introduced in <cite id=\"cawf4\"><a href=\"#zotero%7C13263233%2F7SLQVYIR\">(Eshelby, 1957)</a></cite> to relate the inclusion and inhomogeneity problems. Indeed, the constitutive law can be rewritten\n",
    "<a id=\"eq-polarization\"></a>\n",
    "\\begin{equation}\n",
    "\\tag{polarization}\n",
    "\\mathbf{\\sigma}=\\mathbb{C}_0:\\mathbf{\\varepsilon}+\\mathbf{p}\\quad\\textrm{with}\\quad \\mathbf{p}=\\left(\\mathbb{C}-\\mathbb{C}_0\\right):\\mathbf{\\varepsilon}=\\delta\\mathbb{C}:\\mathbf{\\varepsilon}\n",
    "\\end{equation}\n",
    "where $\\mathbf{p}$ is a polarization tensor field consistently related to the strain field by the actual constitutive law.\n",
    "A corresponding expression can be obtained in terms of compliances by introducing a fictitious eigenstrain field $\\mathbf{\\eta}$\n",
    "<a id=\"eq-eigenstrain\"></a>\n",
    "\\begin{equation}\n",
    "\\tag{eigenstrain}\n",
    "\\mathbf{\\varepsilon}=\\mathbb{S}_0:\\mathbf{\\sigma}+\\mathbf{\\eta}\\quad\\textrm{with}\\quad \\mathbf{\\eta}=\\left(\\mathbb{S}-\\mathbb{S}_0\\right):\\mathbf{\\sigma}=\\delta\\mathbb{S}:\\mathbf{\\sigma}\n",
    "\\end{equation}\n",
    "\n",
    "The macrosocopic behavior is then built from the following expressions of the macroscopic stress\n",
    "<a id=\"eq-macrostress\"></a>\n",
    "\\begin{equation}\n",
    "\\tag{macrostress}\n",
    "\\mathbf{\\Sigma}=<\\mathbf{\\sigma}>_{\\Omega}=\\mathbb{C}_0:\\mathbf{E}+\\sum_{i=1}^N f_i<\\mathbf{p}>_{\\Omega_i}\n",
    "\\end{equation}\n",
    "or strain\n",
    "<a id=\"eq-macrostrain\"></a>\n",
    "\\begin{equation}\n",
    "\\tag{macrostrain}\n",
    "\\mathbf{E}=<\\mathbf{\\varepsilon}>_{\\Omega}=\\mathbb{S}_0:\\mathbf{\\Sigma}+\\sum_{i=1}^N f_i<\\mathbf{\\eta}>_{\\Omega_i}\n",
    "\\end{equation}\n",
    "\n",
    "In these formulations, it is convenient to invoke once again the linearity of the problem to introduce the so-called stiffness $\\mathbb{N}$ and compliance $\\mathbb{H}$ contribution tensors <cite id=\"vcne7\"><a href=\"#zotero%7C13263233%2F2R83Z8LA\">(Kachanov &#38; Sevostianov, 2018)</a></cite>\n",
    "<a id=\"eq-N\"></a><a id=\"eq-H\"></a>\n",
    "\\begin{eqnarray}\n",
    "\\mathbf{p} & = & \\mathbb{N}:\\mathbf{E} \\tag{N}\\\\\n",
    "\\mathbf{\\eta} & = & \\mathbb{H}:\\mathbf{\\Sigma} \\tag{H}\n",
    "\\end{eqnarray}\n",
    "so that\n",
    "<a id=\"eq-macrocontrib\"></a>\n",
    "\\begin{equation}\n",
    "\\tag{macrocontrib}\n",
    "\\mathbb{C}^\\textrm{hom} = \\mathbb{C}_0 + \\sum_{i=1}^N f_i \\mathbb{N}_i \\;\\textrm{ with } \\mathbb{N}_i=<\\mathbb{N}>_{\\Omega_i} \\quad\\textrm{or}\\quad \\mathbb{S}^\\textrm{hom} = \\mathbb{S}_0 + \\sum_{i=1}^N f_i \\mathbb{H}_i \\;\\textrm{ with } \\mathbb{H}_i=<\\mathbb{H}>_{\\Omega_i}\n",
    "\\end{equation}\n",
    "\n",
    "\n",
    "### Estimates by auxiliary problems\n",
    "\n",
    "\n"
   ]
  },
  {
   "cell_type": "code",
   "execution_count": null,
   "id": "6bacabb5-5439-49b1-a937-43c5f8aeac00",
   "metadata": {},
   "outputs": [],
   "source": []
  },
  {
   "cell_type": "code",
   "execution_count": null,
   "id": "4dc73223-2bd9-484b-a2f9-795181d2720a",
   "metadata": {},
   "outputs": [],
   "source": []
  },
  {
   "cell_type": "code",
   "execution_count": null,
   "id": "e756e959-877d-4b59-8b7d-ab8400b8f5f5",
   "metadata": {},
   "outputs": [],
   "source": []
  },
  {
   "cell_type": "markdown",
   "id": "8e56914c-c3cc-4b30-9759-05ac8897488f",
   "metadata": {},
   "source": [
    "## References\n",
    "\n",
    "<!-- BIBLIOGRAPHY START -->\n",
    "<div class=\"csl-bib-body\">\n",
    "  <div class=\"csl-entry\"><i id=\"zotero|13263233/7SLQVYIR\"></i>Eshelby, J. D. (1957). The determination of the elastic field of an ellipsoidal inclusion, and related problems. <i>Proceedings of the Royal Society of London. Series A. Mathematical and Physical Sciences</i>, <i>241</i>(1226), 376–396. <a href=\"https://doi.org/10.1098/rspa.1957.0133\">https://doi.org/10.1098/rspa.1957.0133</a></div>\n",
    "  <div class=\"csl-entry\"><i id=\"zotero|13263233/2R83Z8LA\"></i>Kachanov, M., &#38; Sevostianov, I. (2018). <i>Micromechanics of Materials, with Applications</i> (Vol. 249). Springer International Publishing. <a href=\"https://doi.org/10.1007/978-3-319-76204-3\">https://doi.org/10.1007/978-3-319-76204-3</a></div>\n",
    "  <div class=\"csl-entry\"><i id=\"zotero|13263233/PER98KVR\"></i>Milton, G. W. (2002). <i>The Theory of Composites</i>. Cambridge University Press. <a href=\"https://doi.org/10.1017/CBO9780511613357\">https://doi.org/10.1017/CBO9780511613357</a></div>\n",
    "  <div class=\"csl-entry\"><i id=\"zotero|13263233/UBQHT3SL\"></i>Torquato, S. (2002). <i>Random Heterogeneous Materials</i> (Vol. 16). Springer New York. <a href=\"https://doi.org/10.1007/978-1-4757-6355-3\">https://doi.org/10.1007/978-1-4757-6355-3</a></div>\n",
    "  <div class=\"csl-entry\"><i id=\"zotero|13263233/LK8LHU92\"></i>Zaoui, A. (2002). Continuum Micromechanics: Survey. <i>Journal of Engineering Mechanics</i>, <i>128</i>(8), 808–816. <a href=\"https://doi.org/10.1061/(ASCE)0733-9399(2002)128:8(808)\">https://doi.org/10.1061/(ASCE)0733-9399(2002)128:8(808)</a></div>\n",
    "</div>\n",
    "<!-- BIBLIOGRAPHY END -->"
   ]
  }
 ],
 "metadata": {
  "citation-manager": {
   "items": {
    "zotero": {
     "13263233/2R83Z8LA": {
      "ISBN": "978-3-319-76203-6 978-3-319-76204-3",
      "URL": "http://link.springer.com/10.1007/978-3-319-76204-3",
      "accessed": {
       "date-parts": [
        [
         2022,
         10,
         7
        ]
       ]
      },
      "author": [
       {
        "family": "Kachanov",
        "given": "Mark"
       },
       {
        "family": "Sevostianov",
        "given": "Igor"
       }
      ],
      "collection-title": "Solid Mechanics and Its Applications",
      "event-place": "Cham",
      "id": "13263233/2R83Z8LA",
      "issued": {
       "date-parts": [
        [
         2018
        ]
       ]
      },
      "language": "en",
      "note": "DOI: 10.1007/978-3-319-76204-3",
      "publisher": "Springer International Publishing",
      "publisher-place": "Cham",
      "system_id": "zotero|13263233/2R83Z8LA",
      "title": "Micromechanics of Materials, with Applications",
      "type": "book",
      "volume": "249"
     },
     "13263233/7SLQVYIR": {
      "DOI": "10.1098/rspa.1957.0133",
      "URL": "https://royalsocietypublishing.org/doi/10.1098/rspa.1957.0133",
      "abstract": "It is supposed that a region within an isotropic elastic solid undergoes a spontaneous change of form which, if the surrounding material were absent, would be some prescribed homogeneous deformation. Because of the presence of the surrounding material stresses will be present both inside and outside the region. The resulting elastic field may be found very simply with the help of a sequence of imaginary cutting, straining and welding operations. In particular, if the region is an ellipsoid the strain inside it is uniform and may be expressed in terms of tabu­lated elliptic integrals. In this case a further problem may be solved. An ellipsoidal region in an infinite medium has elastic constants different from those of the rest of the material; how does the presence of this inhomogeneity disturb an applied stress-field uniform at large distances? It is shown that to answer several questions of physical or engineering interest it is necessary to know only the relatively simple elastic field inside the ellipsoid.",
      "author": [
       {
        "family": "Eshelby",
        "given": "J D"
       }
      ],
      "container-title": "Proceedings of the Royal Society of London. Series A. Mathematical and Physical Sciences",
      "id": "13263233/7SLQVYIR",
      "issue": "1226",
      "issued": {
       "date-parts": [
        [
         1957
        ]
       ]
      },
      "page": "376–396",
      "system_id": "zotero|13263233/7SLQVYIR",
      "title": "The determination of the elastic field of an ellipsoidal inclusion, and related problems",
      "type": "article-journal",
      "volume": "241"
     },
     "13263233/LK8LHU92": {
      "DOI": "10.1061/(ASCE)0733-9399(2002)128:8(808)",
      "URL": "https://ascelibrary.org/doi/10.1061/%28ASCE%290733-9399%282002%29128%3A8%28808%29",
      "abstract": "The foundations of classical homogenization techniques, which aim at predicting the overall behavior of heterogeneous materials from that of their constituents, are reviewed. After introductory deﬁnitions and a methodological preamble, attention is focused on linear elasticity, for which the basic principles of estimating and bounding the overall properties are introduced and illustrated. In this context, special recourse is made for that to the solution of the inclusion and inhomogeneity problems as reported by Eshelby in 1957. Approaches proposed recently to account in a better way for the structural morphology of the considered materials are brieﬂy mentioned. The case of linear elasticity with eigenstrains is then discussed: several applications, including heterogeneous thermoelasticity, can be investigated within this framework. Finally, outlines of nonlinear micromechanics are brieﬂy reported from a historical point of view: from rate-independent elastoplasticity to nonlinear elasticity and viscoplasticity, examples of a fruitful interaction between the search for new estimates and the derivation of rigorous bounds are given and the crucial question of the description of intraphase heterogeneity is emphasized. Viscoelastic coupling and rate-dependent effects are brieﬂy discussed in conclusion.",
      "accessed": {
       "date-parts": [
        [
         2022,
         10,
         7
        ]
       ]
      },
      "author": [
       {
        "family": "Zaoui",
        "given": "André"
       }
      ],
      "container-title": "Journal of Engineering Mechanics",
      "id": "13263233/LK8LHU92",
      "issue": "8",
      "issued": {
       "date-parts": [
        [
         2002
        ]
       ]
      },
      "journalAbbreviation": "J. Eng. Mech.",
      "language": "en",
      "page": "808-816",
      "shortTitle": "Continuum Micromechanics",
      "system_id": "zotero|13263233/LK8LHU92",
      "title": "Continuum Micromechanics: Survey",
      "type": "article-journal",
      "volume": "128"
     },
     "13263233/PER98KVR": {
      "URL": "https://www.cambridge.org/core/books/theory-of-composites/DDFAE9A8E827C0F6178FC2DDE8877AD7",
      "abstract": "Some of the greatest scientists including Poisson, Faraday, Maxwell, Rayleigh, and Einstein have contributed to the theory of composite materials. Mathematically, it is the study of partial differential equations with rapid oscillations in their coefficients. Although extensively studied for more than a hundred years, an explosion of ideas in the last five decades (and particularly in the last three decades) has dramatically increased our understanding of the relationship between the properties of the constituent materials, the underlying microstructure of a composite, and the overall effective (electrical, thermal, elastic) moduli which govern the macroscopic behavior. This renaissance has been fueled by the technological need for improving our knowledge  base of composites, by the advance of the underlying mathematical theory of homogenization, by the discovery of new variational principles, by the recognition of how important the subject is to solving structural optimization problems, and by the realization of the connection with the mathematical problem of quasiconvexification. This 2002 book surveys these exciting developments at the frontier of mathematics.",
      "accessed": {
       "date-parts": [
        [
         2022,
         10,
         8
        ]
       ]
      },
      "author": [
       {
        "family": "Milton",
        "given": "Graeme W."
       }
      ],
      "collection-title": "Cambridge Monographs on Applied and Computational Mathematics",
      "event-place": "Cambridge",
      "id": "13263233/PER98KVR",
      "issued": {
       "date-parts": [
        [
         2002
        ]
       ]
      },
      "note": "tex.ids= milton, milton2001, milton2002\nDOI: 10.1017/CBO9780511613357",
      "publisher": "Cambridge University Press",
      "publisher-place": "Cambridge",
      "system_id": "zotero|13263233/PER98KVR",
      "title": "The Theory of Composites",
      "type": "book"
     },
     "13263233/UBQHT3SL": {
      "ISBN": "978-1-4757-6357-7",
      "URL": "https://link.springer.com/book/10.1007/978-1-4757-6355-3",
      "author": [
       {
        "family": "Torquato",
        "given": "Salvatore"
       }
      ],
      "collection-title": "Interdisciplinary Applied Mathematics",
      "event-place": "New York, NY",
      "id": "13263233/UBQHT3SL",
      "issued": {
       "date-parts": [
        [
         2002
        ]
       ]
      },
      "note": "DOI: 10.1007/978-1-4757-6355-3",
      "publisher": "Springer New York",
      "publisher-place": "New York, NY",
      "system_id": "zotero|13263233/UBQHT3SL",
      "title": "Random Heterogeneous Materials",
      "type": "book",
      "volume": "16"
     }
    }
   }
  },
  "kernelspec": {
   "display_name": "Python 3 (ipykernel)",
   "language": "python",
   "name": "python3"
  },
  "language_info": {
   "codemirror_mode": {
    "name": "ipython",
    "version": 3
   },
   "file_extension": ".py",
   "mimetype": "text/x-python",
   "name": "python",
   "nbconvert_exporter": "python",
   "pygments_lexer": "ipython3",
   "version": "3.7.13"
  }
 },
 "nbformat": 4,
 "nbformat_minor": 5
}
