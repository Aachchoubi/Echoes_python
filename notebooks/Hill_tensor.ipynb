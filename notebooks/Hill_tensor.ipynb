{
 "cells": [
  {
   "cell_type": "markdown",
   "id": "e6a38bb0-570c-452d-8042-e2adb54418f3",
   "metadata": {},
   "source": [
    "$\\newcommand{\\uu}[1]{{\\mathbf{\\boldsymbol{{#1}}}}}$\n",
    "$\\newcommand{\\uuuu}[1]{{\\mathbb{{#1}}}}$\n",
    "$\\newcommand{\\uv}[1]{{\\underline{{#1}}}}$\n",
    "$\\newcommand{\\trans}[1]{{{}^{t}{#1}}}$\n",
    "$\\newcommand{\\x}{{\\uv{x}}}$\n",
    "$\\newcommand{\\sotimes}{{\\stackrel{s}{\\otimes}}}$\n",
    "$\\newcommand{\\norm}[1]{{\\lVert{{#1}}\\rVert}}$\n",
    "$\\newcommand{\\ud}{{\\,\\mathrm{d}}}$\n",
    "$\\DeclareMathOperator{\\arcosh}{arcosh}$"
   ]
  },
  {
   "cell_type": "markdown",
   "id": "baff4a0a-e31e-42b7-927a-c377d9270134",
   "metadata": {},
   "source": [
    "# Calculation of Hill polarization tensors\n",
    "\n",
    "This notebook recalls some results about the calculation of the Hill polarization tensors related to a matrix of stiffness $\\mathbb{C}$ and an ellipsoid $\\mathcal{E}_{\\uu{A}}$ of equation\n",
    "\\begin{equation}\n",
    "\\x\\in\\mathcal{E}_{\\uu{A}}\n",
    "\\quad\\Leftrightarrow\\quad\n",
    "\\x\\cdot(\\trans{\\uu{A}}\\cdot\\uu{A})^{-1}\\cdot\\x\\leq 1\n",
    "\\end{equation}\n",
    "where $\\uu{A}$ is an invertible second-order tensor so that $\\trans{\\uu{A}}\\cdot\\uu{A}$ is a positive definite symmetric tensor associated to 3 radii (eigenvalues $a\\geq b \\geq c$ possibly written $\\rho_1 \\geq \\rho_2 \\geq \\rho_3$ for convenience) and 3 angles (orientation of the frame of eigenvectors $\\uv{e}_1, \\uv{e}_2, \\uv{e}_3$)\n",
    "<a id=\"eq-ellipsoid\"></a>\n",
    "\\begin{equation}\n",
    "\\tag{ellipsoid}\n",
    "\\trans{\\uu{A}}\\cdot\\uu{A}=a^2 \\uv{e}_1\\otimes\\uv{e}_1 + b^2 \\uv{e}_2\\otimes\\uv{e}_2 + c^2 \\uv{e}_3\\otimes\\uv{e}_3 = \\sum_{i=1}^3 \\rho_i \\uv{e}_i\\otimes\\uv{e}_i\n",
    "\\end{equation}"
   ]
  },
  {
   "cell_type": "markdown",
   "id": "9469956d-f8ce-48ec-b05c-559eed33b06b",
   "metadata": {
    "citation-manager": {
     "citations": {
      "aq1ch": [
       {
        "id": "13263233/5CH9IQJT",
        "source": "zotero"
       }
      ],
      "cgvfm": [
       {
        "id": "13263233/GL9D9RRG",
        "source": "zotero"
       }
      ],
      "t4g48": [
       {
        "id": "13263233/AA59PNNH",
        "source": "zotero"
       }
      ],
      "t71du": [
       {
        "id": "13263233/TZIGKQZK",
        "source": "zotero"
       }
      ],
      "v2rbu": [
       {
        "id": "13263233/B3ADYJYB",
        "source": "zotero"
       }
      ],
      "wjxns": [
       {
        "id": "13263233/AVP6VC5I",
        "source": "zotero"
       }
      ],
      "z5cwh": [
       {
        "id": "13263233/TWSESZP8",
        "source": "zotero"
       }
      ]
     }
    },
    "tags": []
   },
   "source": [
    "## General expression\n",
    "\n",
    "A general expression of the elastic polarization tensor is derived in <cite id=\"aq1ch\"><a href=\"#zotero%7C13263233%2F5CH9IQJT\">(Willis, 1977)</a></cite> (see also <cite id=\"t71du\"><a href=\"#zotero%7C13263233%2FTZIGKQZK\">(Mura, 1987)</a></cite>)\n",
    "<a id=\"eq-Hill\"></a>\n",
    "\\begin{equation}\n",
    "\\tag{Hill}\n",
    "\\uuuu{P}(\\uu{A},\\uuuu{C})=\\frac{1}{4\\pi}\n",
    "\\int_{\\norm{\\uv{\\zeta}}=1}\n",
    "(\\uu{A}^{-1}\\cdot\\uv{\\zeta})\\sotimes\n",
    "\\Big((\\uu{A}^{-1}\\cdot\\uv{\\zeta})\\cdot\\uuuu{C}\n",
    "\\cdot(\\uu{A}^{-1}\\cdot\\uv{\\zeta})\\Big)^{-1}\n",
    "\\sotimes(\\uu{A}^{-1}\\cdot\\uv{\\zeta})\n",
    "\\ud S_{\\zeta}\n",
    "=\n",
    "\\frac{\\det{\\uu{A}}}{4\\pi}\n",
    "\\int_{\\norm{\\uv{\\xi}}=1}\n",
    "\\frac{\\uv{\\xi}\\sotimes\n",
    "(\\uv{\\xi}\\cdot\\uuuu{C}\n",
    "\\cdot\\uv{\\xi})^{-1}\n",
    "\\sotimes\\uv{\\xi}}{\\norm{\\uu{A}\\cdot\\uv{\\xi}}^3}\n",
    "\\ud S_{\\xi}\n",
    "\\end{equation}\n",
    "\n",
    "When $\\uuuu{C}$ is arbitrarily anisotropic, it is necessary to resort to numerical cubature to estimate $\\uuuu{P}$ as proposed in <cite id=\"t4g48\"><a href=\"#zotero%7C13263233%2FAA59PNNH\">(Ghahremani, 1977)</a></cite>, <cite id=\"v2rbu\"><a href=\"#zotero%7C13263233%2FB3ADYJYB\">(Gavazzi and Lagoudas, 1990)</a></cite> or <cite id=\"z5cwh\"><a href=\"#zotero%7C13263233%2FTWSESZP8\">(Masson, 2008)</a></cite>. However in some cases of anisotropy, analytical solutions are available (<cite id=\"cgvfm\"><a href=\"#zotero%7C13263233%2FGL9D9RRG\">(Withers, 1989)</a></cite>, <cite id=\"wjxns\"><a href=\"#zotero%7C13263233%2FAVP6VC5I\">(Barthélémy, 2020)</a></cite>). The case of isotropic matrix is particularly developed in the next section."
   ]
  },
  {
   "cell_type": "markdown",
   "id": "d6f7a89a-1289-4083-96dc-66fb17dca25d",
   "metadata": {
    "citation-manager": {
     "citations": {
      "7htvs": [
       {
        "id": "13263233/7SLQVYIR",
        "source": "zotero"
       }
      ],
      "gqv4s": [
       {
        "id": "13263233/AVP6VC5I",
        "source": "zotero"
       }
      ],
      "tlsuh": [
       {
        "id": "13263233/RREC77HR",
        "source": "zotero"
       }
      ]
     }
    },
    "tags": []
   },
   "source": [
    "## Isotropic matrix\n",
    "\n",
    "In this section, the matrix is assumed isotropic so that its stiffness tensor writes by means of a bulk $k$ and shear $\\mu$ or Lamé $\\lambda$ and $\\mu$ moduli or even Young modulus $E$ and Poisson ratio $\\nu$ with $k=\\frac{E}{3(1-2\\nu)}$ and $\\mu=\\frac{E}{2(1+\\nu)}$.\n",
    "<a id=\"eq-isoC\"></a>\n",
    "\\begin{equation}\n",
    "\\tag{isoC}\n",
    "\\uuuu{C}=3k\\uuuu{J}+2\\mu\\uuuu{K}=3\\lambda\\uuuu{I}+2\\mu\\uuuu{K}\n",
    "\\quad\\textrm{with}\\quad J_{ijkl}=\\frac{\\delta_{ij}\\delta_{kl}}{3},\n",
    "I_{ijkl}=\\frac{\\delta_{ik}\\delta_{jl}+\\delta_{il}\\delta_{jk}}{2}\n",
    "\\textrm{ and }\n",
    "\\uuuu{K}=\\uuuu{I}-\\uuuu{J}\n",
    "\\end{equation}\n",
    "\n",
    "Introducing [(isoC)](#eq-isoC) in [(Hill)](#eq-Hill) and after some algebra it comes that\n",
    "\\begin{equation}\n",
    "\\uuuu{P}=\n",
    "\\frac{1}{\\lambda+2\\,\\mu}\n",
    "\\uuuu{U}\n",
    "+\\frac{1}{\\mu}(\\uuuu{V}-\\uuuu{U})\n",
    "\\end{equation}\n",
    "where the tensors $\\uuuu{U}$ and $\\uuuu{V}$, depending only on the ellipsoidal\n",
    "tensor $\\uu{A}$ of [(ellipsoid)](#eq-ellipsoid), are given by (see <cite id=\"gqv4s\"><a href=\"#zotero%7C13263233%2FAVP6VC5I\">(Barthélémy, 2020)</a></cite>)\n",
    "\\begin{equation}\n",
    "\\uuuu{U}=\\frac{\\det{\\uu{A}}}{4\\pi}\n",
    "\\int_{\\norm{\\uv{\\xi}}=1}\n",
    "\\frac{\\uv{\\xi}\\otimes\\uv{\\xi}\\otimes\\uv{\\xi}\\otimes\\uv{\\xi}}\n",
    "{\\norm{\\uu{A}\\cdot\\uv{\\xi}}^3}\\ud S_{\\xi}\n",
    "=\n",
    "\\frac{1}{4\\pi}\n",
    "\\int_{\\norm{\\uv{\\zeta}}=1}\n",
    "\\frac{%\n",
    "(\\uu{A}^{-1}\\cdot\\uv{\\zeta})\n",
    "\\otimes\n",
    "(\\uu{A}^{-1}\\cdot\\uv{\\zeta})\n",
    "\\otimes\n",
    "(\\uu{A}^{-1}\\cdot\\uv{\\zeta})\n",
    "\\otimes\n",
    "(\\uu{A}^{-1}\\cdot\\uv{\\zeta})\n",
    "}{\\norm{\\uu{A}^{-1}\\cdot\\uv{\\zeta}}^4}\n",
    "\\ud S_{\\zeta}\n",
    "\\end{equation}\n",
    "and\n",
    "\\begin{equation}\n",
    "\\uuuu{V}=\\frac{\\det{\\uu{A}}}{4\\pi}\n",
    "\\int_{\\norm{\\uv{\\xi}}=1}\n",
    "\\frac{\\uv{\\xi}\\sotimes\\uu{1}\\sotimes\\uv{\\xi}}\n",
    "{\\norm{\\uu{A}\\cdot\\uv{\\xi}}^3}\\ud S_{\\xi}\n",
    "=\n",
    "\\frac{1}{4\\pi}\n",
    "\\int_{\\norm{\\uv{\\zeta}}=1}\n",
    "\\frac{%\n",
    "(\\uu{A}^{-1}\\cdot\\uv{\\zeta})\n",
    "\\sotimes\n",
    "\\uu{1}\n",
    "\\sotimes\n",
    "(\\uu{A}^{-1}\\cdot\\uv{\\zeta})\n",
    "}{\\norm{\\uu{A}^{-1}\\cdot\\uv{\\zeta}}^2}\n",
    "\\ud S_{\\zeta}\n",
    "\\end{equation}\n",
    "For an arbitrary ellipsoid defined by [(ellipsoid)](#eq-ellipsoid), the components of $\\uuuu{U}$ and $\\uuuu{V}$ write\n",
    "\\begin{eqnarray}\n",
    "U_{iiii}&=&\\frac{3(I_i-\\rho_i^2I_{ii})}{2} \n",
    "\\quad\\forall\\, i\\in\\{1,2,3\\}\\label{eq:Uiiii}\\\\\n",
    "U_{iijj}=U_{ijij}=U_{ijji}&=&\\frac{I_j-\\rho_i^2I_{ij}}{2} \n",
    "=\\frac{I_i-\\rho_j^2I_{ij}}{2}\n",
    "\\quad\\forall\\, i\\neq j\\in\\{1,2,3\\} \\label{eq:Uiijj}\n",
    "\\end{eqnarray}\n",
    "and\n",
    "\\begin{eqnarray}\n",
    "V_{iiii}&=&I_i\\quad\\forall\\, i\\in\\{1,2,3\\}\\label{eq:Viiii}\\\\\n",
    "V_{ijij}=V_{ijji}&=&\\frac{I_i+I_j}{4}\n",
    "\\quad\\forall\\, i\\neq j\\in\\{1,2,3\\} \\label{eq:Viijj}\n",
    "\\end{eqnarray}\n",
    "where the coefficients $I_i$ and $I_{ij}$ are given by\n",
    "(note that $I_i$ and $I_{ij}$ are adapted from those provided in\n",
    "<cite id=\"tlsuh\"><a href=\"#zotero%7C13263233%2FRREC77HR\">(Kellogg, 1929)</a></cite>\n",
    "and <cite id=\"7htvs\"><a href=\"#zotero%7C13263233%2F7SLQVYIR\">(Eshelby, 1957)</a></cite>:\n",
    "they differ by a factor of $4\\pi/3$\n",
    "for $I_{ij}$ with $i\\neq j$ and by $4\\pi$ for the others)\n",
    "\n",
    "- if $a > b > c$\n",
    "        \\begin{eqnarray}\n",
    "        I_1&=&\\frac{a\\,b\\,c}{(a^2-b^2)\\sqrt{a^2-c^2}}\\,\n",
    "        \\left({\\cal F}-{\\cal E}\\right)\\label{eq:I1}\\\\\n",
    "        I_3&=&\\frac{a\\,b\\,c}{(b^2-c^2)\\sqrt{a^2-c^2}}\\,\n",
    "        \\left(\\frac{b\\sqrt{a^2-c^2}}{a\\,c}-\n",
    "        {\\cal E}\\right)\\label{eq:I3}\\\\\n",
    "        I_2&=&1-I_1-I_3\\label{eq:I2}\\\\\n",
    "        I_{ij}&=&\\frac{I_j-I_i}{\\rho_i^2-\\rho_j^2}\\quad\\forall\\, i\\neq j\\in\\{1,2,3\\}\n",
    "        \\\\\n",
    "        I_{ii}&=&\\frac{1}{3}\\left(\n",
    "        \\frac{1}{\\rho_i^2}-\n",
    "          \\sum_{j\\neq i}I_{ij} \\right) \n",
    "          \\quad\\forall\\, i\\in\\{1,2,3\\}\\label{eq:Iii}\n",
    "        \\end{eqnarray}    \n",
    "    where ${\\cal F}={\\cal F}(\\theta,\\kappa)$ and\n",
    "    ${\\cal E}={\\cal E}(\\theta,\\kappa)$\n",
    "    are respectively the elliptic integrals of the first and second\n",
    "    kinds (see ABRA) of amplitude and parameter\n",
    "    \\begin{equation}\n",
    "      \\theta=\\arcsin{\\sqrt{1-\\frac{c^2}{a^2}}}\n",
    "      \\quad;\\quad\n",
    "      \\kappa=\\sqrt{\\frac{a^2-b^2}{a^2-c^2}}\n",
    "      \\label{eq:ampmod}\n",
    "    \\end{equation}\n",
    "- if $a > b = c$ (prolate spheroid)\n",
    "    \\begin{eqnarray}\n",
    "      I_2=I_3&=&a\\,\n",
    "      \\frac{a\\sqrt{a^2-c^2}-c^2\\,\\arcosh{(a/c)}}\n",
    "      {2\\left(a^2-c^2\\right)^{3/2}}\n",
    "      \\label{eq:I23pro}\\\\\n",
    "      I_1&=&1-2\\,I_3\n",
    "      \\label{eq:I1pro}\\\\\n",
    "      I_{1i}=I_{i1}&=&\\frac{I_i-I_1}{a^2-\\rho_i^2}\\quad\n",
    "      \\forall\\, i\\in\\{2,3\\}\n",
    "      \\label{eq:I1ipro}\\\\\n",
    "      I_{ij}&=&\\frac{1}{4}\n",
    "        \\left(\\frac{1}{c^2}-I_{31} \\right) \n",
    "          \\quad\\forall\\, i,j\\in\\{2,3\\}\\label{eq:Iijpro}\\\\\n",
    "      I_{11}&=&\\frac{1}{3}\n",
    "        \\left(\\frac{1}{a^2}-2\\,I_{31} \\right) \n",
    "          \\label{eq:I11pro}     \n",
    "    \\end{eqnarray}\n",
    "- if $a = b > c$ (oblate spheroid)\n",
    "    \\begin{eqnarray}\n",
    "      I_1=I_2&=&c\\,\n",
    "       \\frac{a^2\\,\\arccos{(c/a)}-c\\sqrt{a^2-c^2}}\n",
    "       {2\\left(a^2-c^2\\right)^{3/2}}\n",
    "      \\label{eq:I12ob}\\\\\n",
    "      I_3&=&1-2\\,I_1\n",
    "      \\label{eq:I3ob}\\\\\n",
    "      I_{3i}=I_{i3}&=&\\frac{I_3-I_i}{\\rho_i^2-c^2}\\quad\n",
    "      \\forall\\, i\\in\\{1,2\\}\n",
    "      \\label{eq:I3iob}\\\\\n",
    "      I_{ij}&=&\\frac{1}{4}\n",
    "        \\left(\\frac{1}{a^2}-I_{31} \\right) \n",
    "          \\quad\\forall\\, i,j\\in\\{1,2\\}\\label{eq:Iijob}\\\\\n",
    "      I_{33}&=&\\frac{1}{3}\n",
    "        \\left(\\frac{1}{c^2}-2\\,I_{31} \\right) \n",
    "          \\label{eq:I33ob}     \n",
    "    \\end{eqnarray}\n",
    "- if $a = b = c$ (sphere)\n",
    "    \\begin{eqnarray}\n",
    "      I_1=I_2=I_3&=&\\frac{1}{3}\n",
    "      \\label{eq:I123sph}\\\\\n",
    "      I_{ij}&=&\\frac{1}{5\\,a^2}\\quad\\forall\\, i,j\\in\\{1,2,3\\}\n",
    "        \\label{eq:Iijsph}\n",
    "    \\end{eqnarray}\n",
    "\n",
    "In this last case of spherical inclusion ($\\uu{A}=\\uu{1}$), $\\uuuu{U}$ and $\\uuuu{V}$ are simply decomposed as\n",
    "\\begin{equation}\n",
    "\\uuuu{U}=\\frac{1}{3}\\uuuu{J}+\\frac{2}{15}\\uuuu{K}\n",
    "\\quad\\textrm{ and }\\quad\n",
    "\\uuuu{V}=\\frac{1}{3}\\uuuu{I}\n",
    "\\end{equation}"
   ]
  },
  {
   "cell_type": "markdown",
   "id": "b972b6f0-62bc-4c3c-9582-b7e10adc768b",
   "metadata": {
    "citation-manager": {
     "citations": {
      "6rxir": [
       {
        "id": "13263233/BVWIS88A",
        "source": "zotero"
       }
      ],
      "hfk2l": [
       {
        "id": "13263233/RDILG4ZZ",
        "source": "zotero"
       }
      ],
      "rop4i": [
       {
        "id": "13263233/8FZB3BWZ",
        "source": "zotero"
       }
      ]
     }
    },
    "tags": []
   },
   "source": [
    "## Degenerated case of cracks\n",
    "\n",
    "The case of cracks corresponds to ellipsoids for which the smallest radius is very small compared to the two others, in other words the characteristic tensor $\\uu{A}$ [(ellipsoid)](#eq-ellipsoid) can be written here\n",
    "\\begin{equation}\n",
    "\\uu{A}=\n",
    "\\uv{\\ell}\\otimes\\uv{\\ell}+\n",
    "\\eta\\,\\uv{m}\\otimes\\uv{m}+\n",
    "\\omega\\,\\uv{n}\\otimes\\uv{n}\n",
    "\\quad\\textrm{with}\\quad\n",
    "\\eta=\\frac{b}{a}\n",
    "\\quad\\textrm{and}\\quad\n",
    "\\omega=\\frac{c}{a}\n",
    "\\end{equation}\n",
    "<p>\n",
    "<a id=\"fig-ellipsoidalcrack\"></a>\n",
    "<center>\n",
    "<img align=\"middle\" width=\"30%\" alt=\"Ellipsoidal crack\" src=\"ellipsoidalcrack.png\">\n",
    "    <figcaption>Ellipsoidal crack</figcaption>\n",
    "</p>\n",
    "    \n",
    "In the case of cracks, it is useful to introduce the second Hill polarization tensor defined as\n",
    "\\begin{equation}\n",
    "\\uuuu{Q}=\\uuuu{C}-\\uuuu{C}:\\uuuu{P}:\\uuuu{C}\n",
    "\\end{equation}\n",
    "and in particular the limit\n",
    "<a id=\"eq-Lambda\"></a>\n",
    "\\begin{equation}\n",
    "\\tag{Lambda}\n",
    "\\uuuu{\\Lambda}=\\lim_{\\omega\\to 0}\\omega\\,\\uuuu{Q}^{-1}\n",
    "\\end{equation}\n",
    "in which it is recalled that $\\uuuu{P}$ and thus $\\uuuu{Q}$ depend on $\\omega$ such that the components $Q_{nijk}$ (with $n$ corresponding to the crack normal) behave as $1/\\omega$ when $\\omega$ tends towards $0$. The analytical expressions of this limit are fully detailed in <cite id=\"6rxir\"><a href=\"#zotero%7C13263233%2FBVWIS88A\">(Barthélémy et al., 2021)</a></cite> which recalls in particular that $\\uuuu{\\Lambda}$ actually derives from a symmetric second-order tensor $\\uu{B}$ as\n",
    "\\begin{equation}\n",
    "\\uuuu{\\Lambda}=\n",
    "\\lim_{\\omega\\to 0} \\omega\\uuuu{Q}^{-1}\n",
    "=\\frac{3}{4}\\,\\uv{n}\\sotimes\\uu{B}\\sotimes\\uv{n}\n",
    "\\end{equation}\n",
    "\n",
    "For an arbitrarly anisotropic matrix, an algorithm allowing to estimate the limit [(Lambda)](#eq-Lambda) is proposed in <cite id=\"hfk2l\"><a href=\"#zotero%7C13263233%2FRDILG4ZZ\">(Barthélémy, 2009)</a></cite> whereas in the isotropic case $\\uu{B}$ writes\n",
    "\\begin{equation}\n",
    "\\uu{B}=\n",
    "B_{nn}\\,\\uv{n}\\otimes\\uv{n}\n",
    "+\n",
    "B_{mm}\\,\\uv{m}\\otimes\\uv{m}\n",
    "+\n",
    "B_{\\ell\\ell}\\,\\uv{\\ell}\\otimes\\uv{\\ell}\n",
    "   \\label{eq:solB}\n",
    "\\end{equation}\n",
    "    with\n",
    "\\begin{eqnarray}\n",
    "B_{nn}&=&\\frac{8\\,\\eta\\,(1-\\nu^2)}{3\\,E}\\,\n",
    "\\frac{1}{\\mathcal{E}_\\eta}\\label{eq:Bnn}\\\\\n",
    "B_{mm}&=&\\frac{8\\,\\eta\\,(1-\\nu^2)}{3\\,E}\\,\n",
    "\\frac{1-\\eta^2}{\\left(1-(1-\\nu)\\,\\eta^2\\right)\n",
    "\\,\\mathcal{E}_\\eta-\\nu\\,\\eta^2\\,\\mathcal{K}_\\eta}\n",
    "\\label{eq:Bmm}\\\\\n",
    "B_{\\ell\\ell}&=&\\frac{8\\,\\eta\\,(1-\\nu^2)}{3\\,E}\\,\n",
    "\\frac{1-\\eta^2}{(1-\\nu-\\eta^2)\\,\\mathcal{E}_\\eta+\\nu\\,\\eta^2\\,\\mathcal{K}_\\eta}\n",
    "\\label{eq:Bll}\n",
    "\\end{eqnarray}\n",
    "where $\\mathcal{K}_\\eta=\\mathcal{K}(\\sqrt{1-\\eta^2})$ and $\\mathcal{E}_\\eta=\\mathcal{E}(\\sqrt{1-\\eta^2})$ are the complete elliptic integrals of respectively the first and second kind (see <cite id=\"rop4i\"><a href=\"#zotero%7C13263233%2F8FZB3BWZ\">(Abramowitz and Stegun, 1972)</a></cite>).\n",
    "If the crack is circular, the components of $\\uu{B}$ become\n",
    "\\begin{equation}\n",
    "B_{nn}=\\frac{16\\,(1-\\nu^2)}{3\\,\\pi\\,E}\n",
    "\\quad\\textrm{;}\\quad\n",
    "B_{mm}=B_{\\ell\\ell}=\\frac{B_{nn}}{1-\\nu/2}\n",
    "   \\label{eq:solBcirc}\n",
    "\\end{equation}"
   ]
  },
  {
   "cell_type": "markdown",
   "id": "46f2f81e-1755-43fe-b32b-c35e577548e9",
   "metadata": {
    "tags": []
   },
   "source": [
    "## Application of Hill calculation"
   ]
  },
  {
   "cell_type": "code",
   "execution_count": 2,
   "id": "b98b8988-b3ec-4acd-bef9-cbbb6986fdd4",
   "metadata": {},
   "outputs": [],
   "source": [
    "import numpy as np\n",
    "from echoes import *\n",
    "import matplotlib.pyplot as plt"
   ]
  },
  {
   "cell_type": "markdown",
   "id": "7330cf55-7dd0-4daf-90f5-6d947df22ee2",
   "metadata": {},
   "source": [
    "### Definition of the matrix tensor"
   ]
  },
  {
   "cell_type": "code",
   "execution_count": 3,
   "id": "6fbdaa79-cdf7-4b1a-ad34-9486efc26eb0",
   "metadata": {},
   "outputs": [
    {
     "name": "stdout",
     "output_type": "stream",
     "text": [
      "Order 4 ISO tensor | Param(size=2)=[ 1.66667 0.833333 ] | Angles(size=0)=[ ]\n",
      "[ 1.11111 0.277778 0.277778 0 0 0 \n",
      "  0.277778 1.11111 0.277778 0 0 0 \n",
      "  0.277778 0.277778 1.11111 0 0 0 \n",
      "  0 0 0 0.833333 0 0 \n",
      "  0 0 0 0 0.833333 0 \n",
      "  0 0 0 0 0 0.833333 ]\n",
      "\n"
     ]
    }
   ],
   "source": [
    "C = stiff_Enu(1.,0.2) ; print(C)"
   ]
  },
  {
   "cell_type": "markdown",
   "id": "dd08cefe-a5f5-4c56-867e-f8a36bd37729",
   "metadata": {},
   "source": [
    "### Calculation of the crack compliance $\\uuuu{\\Lambda}=\\lim_{\\omega\\to 0}\\omega\\,\\uuuu{Q}^{-1}$\n",
    "Note that in *Echoes* it is necessary to provide an aspect ratio $\\omega$ for the crack even if the crack compliance is actually calculated as a limit (not depending on $\\omega$)"
   ]
  },
  {
   "cell_type": "code",
   "execution_count": 4,
   "id": "53b4550b-9f19-4405-9ca9-0303bcf551ce",
   "metadata": {},
   "outputs": [
    {
     "name": "stdout",
     "output_type": "stream",
     "text": [
      "[[0.         0.         0.         0.         0.         0.        ]\n",
      " [0.         0.         0.         0.         0.         0.        ]\n",
      " [0.         0.         1.22230996 0.         0.         0.        ]\n",
      " [0.         0.         0.         0.67906109 0.         0.        ]\n",
      " [0.         0.         0.         0.         0.67906109 0.        ]\n",
      " [0.         0.         0.         0.         0.         0.        ]]\n"
     ]
    }
   ],
   "source": [
    "ω = 1.e-4\n",
    "Λ = crack_compliance(spheroidal(ω), C) ; print(Λ)"
   ]
  },
  {
   "cell_type": "markdown",
   "id": "42aef18f-4fde-4a4a-a1af-fa37c3626d80",
   "metadata": {},
   "source": []
  },
  {
   "cell_type": "markdown",
   "id": "5a4a7055-6584-4d4d-99f1-ac6a319c5d79",
   "metadata": {},
   "source": []
  },
  {
   "cell_type": "markdown",
   "id": "21fd886d-b5d1-4c2e-a48a-ed8363fe3306",
   "metadata": {},
   "source": []
  },
  {
   "cell_type": "markdown",
   "id": "7b810165-0d32-4612-bafb-0afd0108e26f",
   "metadata": {},
   "source": []
  },
  {
   "cell_type": "markdown",
   "id": "2b60c5ad-71fc-4241-8496-fdd75cf41cd3",
   "metadata": {},
   "source": []
  },
  {
   "cell_type": "markdown",
   "id": "40ab296c-6d79-4731-8bb6-88f3b9f1128f",
   "metadata": {},
   "source": []
  },
  {
   "cell_type": "markdown",
   "id": "54fca719-682a-49c0-b1f0-740d856795d2",
   "metadata": {},
   "source": [
    "## References\n",
    "\n",
    "<!-- BIBLIOGRAPHY START -->\n",
    "<div class=\"csl-bib-body\">\n",
    "  <div class=\"csl-entry\"><i id=\"zotero|13263233/8FZB3BWZ\"></i>Abramowitz, M., Stegun, I.A., 1972. Handbook of Mathematical Functions. National Bureau of Standards - Applied Mathematics Series - 55, Washington D.C.</div>\n",
    "  <div class=\"csl-entry\"><i id=\"zotero|13263233/RDILG4ZZ\"></i>Barthélémy, J.-F., 2009. Compliance and Hill polarization tensor of a crack in an anisotropic matrix. International Journal of Solids and Structures 46, 4064–4072.</div>\n",
    "  <div class=\"csl-entry\"><i id=\"zotero|13263233/AVP6VC5I\"></i>Barthélémy, J.-F., 2020. Simplified approach to the derivation of the relationship between Hill polarization tensors of transformed problems and applications. International Journal of Engineering Science 154, 103326.</div>\n",
    "  <div class=\"csl-entry\"><i id=\"zotero|13263233/BVWIS88A\"></i>Barthélémy, J.-F., Sevostianov, I., Giraud, A., 2021. Micromechanical modeling of a cracked elliptically orthotropic medium. International Journal of Engineering Science 161, 103454.</div>\n",
    "  <div class=\"csl-entry\"><i id=\"zotero|13263233/7SLQVYIR\"></i>Eshelby, J.D., 1957. The determination of the elastic field of an ellipsoidal inclusion, and related problems. Proceedings of the Royal Society of London. Series A. Mathematical and Physical Sciences 241, 376–396.</div>\n",
    "  <div class=\"csl-entry\"><i id=\"zotero|13263233/B3ADYJYB\"></i>Gavazzi, A.C., Lagoudas, D.C., 1990. On the numerical evaluation of Eshelby’s tensor and its application to elastoplastic fibrous composites. Computational Mechanics 7, 13–19.</div>\n",
    "  <div class=\"csl-entry\"><i id=\"zotero|13263233/AA59PNNH\"></i>Ghahremani, F., 1977. Numerical evaluation of the stresses and strains in ellipsoidal inclusions in an anisotropic elastic material. Mechanics Research Communications 4, 89–91.</div>\n",
    "  <div class=\"csl-entry\"><i id=\"zotero|13263233/RREC77HR\"></i>Kellogg, O.D., 1929. Potential theory. Berlin : Springer-Verlag.</div>\n",
    "  <div class=\"csl-entry\"><i id=\"zotero|13263233/TWSESZP8\"></i>Masson, R., 2008. New explicit expressions of the Hill polarization tensor for general anisotropic elastic solids. International Journal of Solids and Structures 45, 757–769.</div>\n",
    "  <div class=\"csl-entry\"><i id=\"zotero|13263233/TZIGKQZK\"></i>Mura, T., 1987. Micromechanics of Defects in Solids, Second Edition. Kluwer Academic.</div>\n",
    "  <div class=\"csl-entry\"><i id=\"zotero|13263233/5CH9IQJT\"></i>Willis, J.R., 1977. Bounds and self-consistent estimates for the overall properties of anisotropic composites. Journal of the Mechanics and Physics of Solids 25, 185–202.</div>\n",
    "  <div class=\"csl-entry\"><i id=\"zotero|13263233/GL9D9RRG\"></i>Withers, P.J., 1989. The determination of the elastic field of an ellipsoidal inclusion in a transversely isotropic medium, and its relevance to composite materials. Philosophical Magazine A 59, 759–781.</div>\n",
    "</div>\n",
    "<!-- BIBLIOGRAPHY END -->"
   ]
  },
  {
   "cell_type": "code",
   "execution_count": null,
   "id": "6954fef3-ee22-4d18-bd68-725244ea7f6c",
   "metadata": {},
   "outputs": [],
   "source": []
  }
 ],
 "metadata": {
  "citation-manager": {
   "items": {
    "zotero": {
     "13263233/5CH9IQJT": {
      "DOI": "10.1016/0022-5096(77)90022-9",
      "URL": "https://www.sciencedirect.com/science/article/pii/0022509677900229",
      "abstract": "Bounds of Hashin-Shtrikman type and self-consistent estimates for the overall properties of composites, which may be anisotropic, are developed. Bodies containing aligned ellipsoidal inclusions are considered particularly, generalizing previously known results. The overall thermal conductivity of a body containing aligned spheroidal inclusions is discussed as an example including, as limiting cases, bodies containing highly-conducting aligned needles and bodies containing aligned pennyshaped cracks.",
      "accessed": {
       "date-parts": [
        [
         2022,
         10,
         11
        ]
       ]
      },
      "author": [
       {
        "family": "Willis",
        "given": "J. R."
       }
      ],
      "container-title": "Journal of the Mechanics and Physics of Solids",
      "id": "13263233/5CH9IQJT",
      "issue": "3",
      "issued": {
       "date-parts": [
        [
         1977,
         6,
         1
        ]
       ]
      },
      "journalAbbreviation": "Journal of the Mechanics and Physics of Solids",
      "language": "en",
      "page": "185-202",
      "system_id": "zotero|13263233/5CH9IQJT",
      "title": "Bounds and self-consistent estimates for the overall properties of anisotropic composites",
      "type": "article-journal",
      "volume": "25"
     },
     "13263233/7SLQVYIR": {
      "DOI": "10.1098/rspa.1957.0133",
      "URL": "https://royalsocietypublishing.org/doi/10.1098/rspa.1957.0133",
      "abstract": "It is supposed that a region within an isotropic elastic solid undergoes a spontaneous change of form which, if the surrounding material were absent, would be some prescribed homogeneous deformation. Because of the presence of the surrounding material stresses will be present both inside and outside the region. The resulting elastic field may be found very simply with the help of a sequence of imaginary cutting, straining and welding operations. In particular, if the region is an ellipsoid the strain inside it is uniform and may be expressed in terms of tabu­lated elliptic integrals. In this case a further problem may be solved. An ellipsoidal region in an infinite medium has elastic constants different from those of the rest of the material; how does the presence of this inhomogeneity disturb an applied stress-field uniform at large distances? It is shown that to answer several questions of physical or engineering interest it is necessary to know only the relatively simple elastic field inside the ellipsoid.",
      "author": [
       {
        "family": "Eshelby",
        "given": "J D"
       }
      ],
      "container-title": "Proceedings of the Royal Society of London. Series A. Mathematical and Physical Sciences",
      "id": "13263233/7SLQVYIR",
      "issue": "1226",
      "issued": {
       "date-parts": [
        [
         1957
        ]
       ]
      },
      "page": "376–396",
      "system_id": "zotero|13263233/7SLQVYIR",
      "title": "The determination of the elastic field of an ellipsoidal inclusion, and related problems",
      "type": "article-journal",
      "volume": "241"
     },
     "13263233/8FZB3BWZ": {
      "author": [
       {
        "family": "Abramowitz",
        "given": "Milton"
       },
       {
        "family": "Stegun",
        "given": "Irene A"
       }
      ],
      "event-place": "Washington D.C.",
      "id": "13263233/8FZB3BWZ",
      "issued": {
       "date-parts": [
        [
         1972
        ]
       ]
      },
      "publisher": "National Bureau of Standards - Applied Mathematics Series - 55",
      "publisher-place": "Washington D.C.",
      "system_id": "zotero|13263233/8FZB3BWZ",
      "title": "Handbook of Mathematical Functions",
      "type": "book"
     },
     "13263233/AA59PNNH": {
      "DOI": "10.1016/0093-6413(77)90018-0",
      "URL": "https://linkinghub.elsevier.com/retrieve/pii/0093641377900180",
      "author": [
       {
        "family": "Ghahremani",
        "given": "F"
       }
      ],
      "container-title": "Mechanics Research Communications",
      "id": "13263233/AA59PNNH",
      "issue": "2",
      "issued": {
       "date-parts": [
        [
         1977,
         1
        ]
       ]
      },
      "note": "tex.ids= ghahremani1977a",
      "page": "89–91",
      "system_id": "zotero|13263233/AA59PNNH",
      "title": "Numerical evaluation of the stresses and strains in ellipsoidal inclusions in an anisotropic elastic material",
      "type": "article-journal",
      "volume": "4"
     },
     "13263233/AVP6VC5I": {
      "DOI": "10.1016/j.ijengsci.2020.103326",
      "URL": "https://linkinghub.elsevier.com/retrieve/pii/S0020722520301142",
      "author": [
       {
        "family": "Barthélémy",
        "given": "J.-F."
       }
      ],
      "container-title": "International Journal of Engineering Science",
      "id": "13263233/AVP6VC5I",
      "issued": {
       "date-parts": [
        [
         2020,
         9
        ]
       ]
      },
      "page": "103326",
      "system_id": "zotero|13263233/AVP6VC5I",
      "title": "Simplified approach to the derivation of the relationship between Hill polarization tensors of transformed problems and applications",
      "type": "article-journal",
      "volume": "154"
     },
     "13263233/B3ADYJYB": {
      "DOI": "10.1007/BF00370053",
      "URL": "http://link.springer.com/10.1007/BF00370053",
      "author": [
       {
        "family": "Gavazzi",
        "given": "A C"
       },
       {
        "family": "Lagoudas",
        "given": "D C"
       }
      ],
      "container-title": "Computational Mechanics",
      "id": "13263233/B3ADYJYB",
      "issue": "1",
      "issued": {
       "date-parts": [
        [
         1990
        ]
       ]
      },
      "page": "13–19",
      "system_id": "zotero|13263233/B3ADYJYB",
      "title": "On the numerical evaluation of Eshelby's tensor and its application to elastoplastic fibrous composites",
      "type": "article-journal",
      "volume": "7"
     },
     "13263233/BVWIS88A": {
      "DOI": "10.1016/j.ijengsci.2021.103454",
      "URL": "https://linkinghub.elsevier.com/retrieve/pii/S002072252100001X",
      "author": [
       {
        "family": "Barthélémy",
        "given": "J.-F."
       },
       {
        "family": "Sevostianov",
        "given": "I"
       },
       {
        "family": "Giraud",
        "given": "Albert"
       }
      ],
      "container-title": "International Journal of Engineering Science",
      "id": "13263233/BVWIS88A",
      "issued": {
       "date-parts": [
        [
         2021,
         4
        ]
       ]
      },
      "page": "103454",
      "system_id": "zotero|13263233/BVWIS88A",
      "title": "Micromechanical modeling of a cracked elliptically orthotropic medium",
      "type": "article-journal",
      "volume": "161"
     },
     "13263233/GL9D9RRG": {
      "DOI": "10.1080/01418618908209819",
      "URL": "http://www.tandfonline.com/doi/abs/10.1080/01418618908209819",
      "author": [
       {
        "family": "Withers",
        "given": "P J"
       }
      ],
      "container-title": "Philosophical Magazine A",
      "id": "13263233/GL9D9RRG",
      "issue": "4",
      "issued": {
       "date-parts": [
        [
         1989
        ]
       ]
      },
      "page": "759–781",
      "system_id": "zotero|13263233/GL9D9RRG",
      "title": "The determination of the elastic field of an ellipsoidal inclusion in a transversely isotropic medium, and its relevance to composite materials",
      "type": "article-journal",
      "volume": "59"
     },
     "13263233/RDILG4ZZ": {
      "DOI": "10.1016/j.ijsolstr.2009.08.003",
      "URL": "https://www.sciencedirect.com/science/article/pii/S0020768309002893",
      "abstract": "This work aims at developing an efficient method to compute the compliance due to a crack modeled as a flat ellipsoid of any shape in an infinite elastic matrix of arbitrary anisotropy (Eshelby problem) when no closed-form solution seems currently available. Whereas the solution of this problem usually requires the calculation of the so-called fourth-order Hill polarization tensor if the ellipsoid is not singular, it is shown that the crack compliance can be derived from the first-order term in the Taylor expansion of the Hill tensor with respect to the smallest aspect ratio of the ellipsoidal inclusion. For a 3D ellipsoidal crack model, this first-order term is expressed as a simple integral thanks to the Cauchy residue theorem. A similar method allows to express the same term in the case of a cylindrical crack model without any integral. A numerical example is finally treated.",
      "accessed": {
       "date-parts": [
        [
         2022,
         10,
         11
        ]
       ]
      },
      "author": [
       {
        "family": "Barthélémy",
        "given": "Jean-François"
       }
      ],
      "container-title": "International Journal of Solids and Structures",
      "id": "13263233/RDILG4ZZ",
      "issue": "22",
      "issued": {
       "date-parts": [
        [
         2009,
         11,
         1
        ]
       ]
      },
      "journalAbbreviation": "International Journal of Solids and Structures",
      "language": "en",
      "page": "4064-4072",
      "system_id": "zotero|13263233/RDILG4ZZ",
      "title": "Compliance and Hill polarization tensor of a crack in an anisotropic matrix",
      "type": "article-journal",
      "volume": "46"
     },
     "13263233/RREC77HR": {
      "author": [
       {
        "family": "Kellogg",
        "given": "O D"
       }
      ],
      "id": "13263233/RREC77HR",
      "issued": {
       "date-parts": [
        [
         1929
        ]
       ]
      },
      "publisher": "Berlin : Springer-Verlag",
      "system_id": "zotero|13263233/RREC77HR",
      "title": "Potential theory",
      "type": "book"
     },
     "13263233/TWSESZP8": {
      "DOI": "10.1016/j.ijsolstr.2007.08.035",
      "URL": "https://www.sciencedirect.com/science/article/pii/S0020768307003599",
      "abstract": "Except for particular cases, the classical expressions of the Eshelby or Hill polarization tensors, depend, respectively, on a simple or double integral for a fully anisotropic two-dimensional or three-dimensional elastic body. When the body is two-dimensional, we take advantage of Cauchy’s theory of residues to derive a new explicit expression which depends on the two pairs of complex conjugate roots of a quartic equation. If the body exhibits orthotropic symmetry, these roots are explicitly given as a function of the independent components of the elasticity tensor. Similarly, the double integral is reduced to a simple one when the body is three-dimensional. The corresponding integrand depends on the three pairs of complex conjugate roots of a sextic equation which reduces to a cubic one for orthotropic symmetry. This new expression improves significantly the computation times when the degree of anisotropy is high. For both two and three-dimensional bodies, degenerate cases are also studied to yield valid expressions in any events.",
      "accessed": {
       "date-parts": [
        [
         2022,
         10,
         11
        ]
       ]
      },
      "author": [
       {
        "family": "Masson",
        "given": "Renaud"
       }
      ],
      "container-title": "International Journal of Solids and Structures",
      "id": "13263233/TWSESZP8",
      "issue": "3",
      "issued": {
       "date-parts": [
        [
         2008,
         2,
         1
        ]
       ]
      },
      "journalAbbreviation": "International Journal of Solids and Structures",
      "language": "en",
      "page": "757-769",
      "system_id": "zotero|13263233/TWSESZP8",
      "title": "New explicit expressions of the Hill polarization tensor for general anisotropic elastic solids",
      "type": "article-journal",
      "volume": "45"
     },
     "13263233/TZIGKQZK": {
      "author": [
       {
        "family": "Mura",
        "given": "Toshio"
       }
      ],
      "id": "13263233/TZIGKQZK",
      "issued": {
       "date-parts": [
        [
         1987
        ]
       ]
      },
      "note": "DOI: 10.1002/zamm.19890690204",
      "publisher": "Kluwer Academic",
      "system_id": "zotero|13263233/TZIGKQZK",
      "title": "Micromechanics of Defects in Solids, Second Edition",
      "type": "book"
     }
    }
   },
   "style": "elsevier-harvard2.csl"
  },
  "kernelspec": {
   "display_name": "Python 3 (ipykernel)",
   "language": "python",
   "name": "python3"
  },
  "language_info": {
   "codemirror_mode": {
    "name": "ipython",
    "version": 3
   },
   "file_extension": ".py",
   "mimetype": "text/x-python",
   "name": "python",
   "nbconvert_exporter": "python",
   "pygments_lexer": "ipython3",
   "version": "3.7.13"
  }
 },
 "nbformat": 4,
 "nbformat_minor": 5
}
