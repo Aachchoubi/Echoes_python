{
 "cells": [
  {
   "cell_type": "markdown",
   "id": "b9f5339e-3f50-4b83-9fd2-067802f8977c",
   "metadata": {},
   "source": [
    "# Homogenization of a cracked medium"
   ]
  },
  {
   "cell_type": "markdown",
   "id": "2436dd86-8716-4d1b-80e0-e76515152f94",
   "metadata": {
    "citation-manager": {
     "citations": {
      "2f3sc": [
       {
        "id": "13263233/LK8LHU92",
        "source": "zotero"
       }
      ],
      "r3gsp": [
       {
        "id": "13263233/2R83Z8LA",
        "source": "zotero"
       }
      ],
      "tzk58": [
       {
        "id": "13263233/LK8LHU92",
        "source": "zotero"
       }
      ],
      "x4qef": [
       {
        "id": "13263233/C6LI5S9Z",
        "source": "zotero"
       }
      ],
      "xatzb": [
       {
        "id": "13263233/7SLQVYIR",
        "source": "zotero"
       }
      ]
     }
    },
    "tags": []
   },
   "source": [
    "## Elastic stiffness of a heterogeneous medium\n",
    "\n",
    "Consider an elastic matrix of stiffness $\\mathbb{C}_s=3k_s\\mathbb{J}+2\\mu_s\\mathbb{K}$ (and compliance $\\mathbb{S}_s=\\mathbb{C}_s^{-1}$) embedding $N$ families of similar ellipsoids (in each family the ellipsoids have the same shape and orientation). The domain occupied by the matrix is denoted $\\Omega_s$ and the families of ellipsoids $\\Omega_i (1\\leq i\\leq N)$. The spatial average over a domain $\\omega$ is denoted by $<\\bullet>_\\omega$.\n",
    "\n",
    "The macroscopic strain $\\mathbf{E}$ writes\n",
    "<a id=\"eq-macrostrain\"></a>\n",
    "\\begin{equation}\n",
    "\\tag{macrostrain}\n",
    "\\mathbf{E}=<\\mathbf{\\varepsilon}>=\\mathbb{S}_s:\\mathbf{\\Sigma}+\\sum_{i=1}^N f_i<\\mathbf{\\varepsilon}-\\mathbb{S}_s:\\mathbf{\\sigma}>_{\\Omega_i}\n",
    "\\end{equation}\n",
    "where $\\mathbf{\\Sigma}$ is the macroscopic stress, $\\mathbf{\\sigma}$ are the microscopic stress field and $f_i$ is the volume fraction of the $i^\\textrm{th}$ family of cracks. Note that the boundary conditions applied on the representative volume element (RVE) can indifferently be of homogeneous strain or stress types (see <cite id=\"2f3sc\"><a href=\"#zotero%7C13263233%2FLK8LHU92\">(Zaoui, 2002)</a></cite> for more details not developed here). Recalling the reasoning relating the inclusion and inhomogeneity problems in <cite id=\"xatzb\"><a href=\"#zotero%7C13263233%2F7SLQVYIR\">(Eshelby, 1957)</a></cite>, it is worth remarking that the averaged terms in the right hand side of [(macrostrain)](#eq-macrostrain) can be seen as fictitious eigenstrains $\\mathbf{\\varepsilon}^*_i$ such that the strain state within the $i^\\textrm{th}$ family writes\n",
    "<a id=\"eq-eigenstrain\"></a>\n",
    "\\begin{equation}\n",
    "\\tag{eigenstrain}\n",
    "\\forall \\underline{x}\\in \\Omega_i \\quad \\mathbf{\\varepsilon}=\\mathbb{S}_s:\\mathbf{\\sigma}+\\mathbf{\\varepsilon}^*_i\n",
    "\\end{equation}\n",
    "\n",
    "The strategy implemented in homogenization schemes as described in <cite id=\"r3gsp\"><a href=\"#zotero%7C13263233%2F2R83Z8LA\">(Kachanov &#38; Sevostianov, 2018)</a></cite> consists in estimating the so-called compliance contribution tensors linearly relating the eigenstrain average within $i^\\textrm{th}$ family and the macroscopic stress so that\n",
    "<a id=\"eq-contribution\"></a>\n",
    "\\begin{equation}\n",
    "\\tag{contribution}\n",
    "<\\mathbf{\\varepsilon}-\\mathbb{S}_s:\\mathbf{\\sigma}>_{\\Omega_i}=\\mathbb{H}_i:\\mathbf{\\Sigma}\n",
    "\\end{equation}\n",
    "\n",
    "This somehow differs from the approach based on estimations of the average concentration tensors (<cite id=\"tzk58\"><a href=\"#zotero%7C13263233%2FLK8LHU92\">(Zaoui, 2002)</a></cite>, <cite id=\"x4qef\"><a href=\"#zotero%7C13263233%2FC6LI5S9Z\">(Dormieux et al., 2006)</a></cite>)\n",
    "<a id=\"eq-concentration\"></a>\n",
    "\\begin{equation}\n",
    "\\tag{concentration}\n",
    "<\\mathbf{\\varepsilon}>_{\\Omega_i}=\\mathbb{A}_i:\\mathbf{E}\n",
    "\\end{equation}\n"
   ]
  },
  {
   "cell_type": "code",
   "execution_count": null,
   "id": "154187c6-9e91-44ae-aa6f-9b160d0317bd",
   "metadata": {},
   "outputs": [],
   "source": []
  },
  {
   "cell_type": "code",
   "execution_count": null,
   "id": "6bacabb5-5439-49b1-a937-43c5f8aeac00",
   "metadata": {},
   "outputs": [],
   "source": []
  },
  {
   "cell_type": "code",
   "execution_count": null,
   "id": "4dc73223-2bd9-484b-a2f9-795181d2720a",
   "metadata": {},
   "outputs": [],
   "source": []
  },
  {
   "cell_type": "code",
   "execution_count": null,
   "id": "e756e959-877d-4b59-8b7d-ab8400b8f5f5",
   "metadata": {},
   "outputs": [],
   "source": []
  },
  {
   "cell_type": "markdown",
   "id": "8e56914c-c3cc-4b30-9759-05ac8897488f",
   "metadata": {},
   "source": [
    "## References\n",
    "\n",
    "<!-- BIBLIOGRAPHY START -->\n",
    "<div class=\"csl-bib-body\">\n",
    "  <div class=\"csl-entry\"><i id=\"zotero|13263233/C6LI5S9Z\"></i>Dormieux, L., Kondo, D., &#38; Ulm, F.-J. (2006). <i>Microporomechanics</i>. John Wiley &#38; Sons.</div>\n",
    "  <div class=\"csl-entry\"><i id=\"zotero|13263233/7SLQVYIR\"></i>Eshelby, J. D. (1957). The determination of the elastic field of an ellipsoidal inclusion, and related problems. <i>Proceedings of the Royal Society of London. Series A. Mathematical and Physical Sciences</i>, <i>241</i>(1226), 376–396. <a href=\"https://doi.org/10.1098/rspa.1957.0133\">https://doi.org/10.1098/rspa.1957.0133</a></div>\n",
    "  <div class=\"csl-entry\"><i id=\"zotero|13263233/2R83Z8LA\"></i>Kachanov, M., &#38; Sevostianov, I. (2018). <i>Micromechanics of Materials, with Applications</i> (Vol. 249). Springer International Publishing. <a href=\"https://doi.org/10.1007/978-3-319-76204-3\">https://doi.org/10.1007/978-3-319-76204-3</a></div>\n",
    "  <div class=\"csl-entry\"><i id=\"zotero|13263233/LK8LHU92\"></i>Zaoui, A. (2002). Continuum Micromechanics: Survey. <i>Journal of Engineering Mechanics</i>, <i>128</i>(8), 808–816. <a href=\"https://doi.org/10.1061/(ASCE)0733-9399(2002)128:8(808)\">https://doi.org/10.1061/(ASCE)0733-9399(2002)128:8(808)</a></div>\n",
    "</div>\n",
    "<!-- BIBLIOGRAPHY END -->"
   ]
  }
 ],
 "metadata": {
  "citation-manager": {
   "items": {
    "zotero": {
     "13263233/2R83Z8LA": {
      "ISBN": "978-3-319-76203-6 978-3-319-76204-3",
      "URL": "http://link.springer.com/10.1007/978-3-319-76204-3",
      "accessed": {
       "date-parts": [
        [
         2022,
         10,
         7
        ]
       ]
      },
      "author": [
       {
        "family": "Kachanov",
        "given": "Mark"
       },
       {
        "family": "Sevostianov",
        "given": "Igor"
       }
      ],
      "collection-title": "Solid Mechanics and Its Applications",
      "event-place": "Cham",
      "id": "13263233/2R83Z8LA",
      "issued": {
       "date-parts": [
        [
         2018
        ]
       ]
      },
      "language": "en",
      "note": "DOI: 10.1007/978-3-319-76204-3",
      "publisher": "Springer International Publishing",
      "publisher-place": "Cham",
      "system_id": "zotero|13263233/2R83Z8LA",
      "title": "Micromechanics of Materials, with Applications",
      "type": "book",
      "volume": "249"
     },
     "13263233/7SLQVYIR": {
      "DOI": "10.1098/rspa.1957.0133",
      "URL": "https://royalsocietypublishing.org/doi/10.1098/rspa.1957.0133",
      "abstract": "It is supposed that a region within an isotropic elastic solid undergoes a spontaneous change of form which, if the surrounding material were absent, would be some prescribed homogeneous deformation. Because of the presence of the surrounding material stresses will be present both inside and outside the region. The resulting elastic field may be found very simply with the help of a sequence of imaginary cutting, straining and welding operations. In particular, if the region is an ellipsoid the strain inside it is uniform and may be expressed in terms of tabu­lated elliptic integrals. In this case a further problem may be solved. An ellipsoidal region in an infinite medium has elastic constants different from those of the rest of the material; how does the presence of this inhomogeneity disturb an applied stress-field uniform at large distances? It is shown that to answer several questions of physical or engineering interest it is necessary to know only the relatively simple elastic field inside the ellipsoid.",
      "author": [
       {
        "family": "Eshelby",
        "given": "J D"
       }
      ],
      "container-title": "Proceedings of the Royal Society of London. Series A. Mathematical and Physical Sciences",
      "id": "13263233/7SLQVYIR",
      "issue": "1226",
      "issued": {
       "date-parts": [
        [
         1957
        ]
       ]
      },
      "page": "376–396",
      "system_id": "zotero|13263233/7SLQVYIR",
      "title": "The determination of the elastic field of an ellipsoidal inclusion, and related problems",
      "type": "article-journal",
      "volume": "241"
     },
     "13263233/C6LI5S9Z": {
      "ISBN": "978-0-470-03188-9",
      "author": [
       {
        "family": "Dormieux",
        "given": "Luc"
       },
       {
        "family": "Kondo",
        "given": "Djimédo"
       },
       {
        "family": "Ulm",
        "given": "F.-J."
       }
      ],
      "call-number": "TA418.9.P6 D67 2006",
      "event-place": "Chichester, West Sussex, England ; Hoboken, NJ",
      "id": "13263233/C6LI5S9Z",
      "issued": {
       "date-parts": [
        [
         2006
        ]
       ]
      },
      "language": "en",
      "note": "OCLC: ocm71829949\ntex.ids= dormieux2006\nDOI: 10.1002/0470032006",
      "number-of-pages": "328",
      "publisher": "John Wiley & Sons",
      "publisher-place": "Chichester, West Sussex, England ; Hoboken, NJ",
      "system_id": "zotero|13263233/C6LI5S9Z",
      "title": "Microporomechanics",
      "type": "book"
     },
     "13263233/LK8LHU92": {
      "DOI": "10.1061/(ASCE)0733-9399(2002)128:8(808)",
      "URL": "https://ascelibrary.org/doi/10.1061/%28ASCE%290733-9399%282002%29128%3A8%28808%29",
      "abstract": "The foundations of classical homogenization techniques, which aim at predicting the overall behavior of heterogeneous materials from that of their constituents, are reviewed. After introductory deﬁnitions and a methodological preamble, attention is focused on linear elasticity, for which the basic principles of estimating and bounding the overall properties are introduced and illustrated. In this context, special recourse is made for that to the solution of the inclusion and inhomogeneity problems as reported by Eshelby in 1957. Approaches proposed recently to account in a better way for the structural morphology of the considered materials are brieﬂy mentioned. The case of linear elasticity with eigenstrains is then discussed: several applications, including heterogeneous thermoelasticity, can be investigated within this framework. Finally, outlines of nonlinear micromechanics are brieﬂy reported from a historical point of view: from rate-independent elastoplasticity to nonlinear elasticity and viscoplasticity, examples of a fruitful interaction between the search for new estimates and the derivation of rigorous bounds are given and the crucial question of the description of intraphase heterogeneity is emphasized. Viscoelastic coupling and rate-dependent effects are brieﬂy discussed in conclusion.",
      "accessed": {
       "date-parts": [
        [
         2022,
         10,
         7
        ]
       ]
      },
      "author": [
       {
        "family": "Zaoui",
        "given": "André"
       }
      ],
      "container-title": "Journal of Engineering Mechanics",
      "id": "13263233/LK8LHU92",
      "issue": "8",
      "issued": {
       "date-parts": [
        [
         2002
        ]
       ]
      },
      "journalAbbreviation": "J. Eng. Mech.",
      "language": "en",
      "page": "808-816",
      "shortTitle": "Continuum Micromechanics",
      "system_id": "zotero|13263233/LK8LHU92",
      "title": "Continuum Micromechanics: Survey",
      "type": "article-journal",
      "volume": "128"
     }
    }
   }
  },
  "kernelspec": {
   "display_name": "Python 3 (ipykernel)",
   "language": "python",
   "name": "python3"
  },
  "language_info": {
   "codemirror_mode": {
    "name": "ipython",
    "version": 3
   },
   "file_extension": ".py",
   "mimetype": "text/x-python",
   "name": "python",
   "nbconvert_exporter": "python",
   "pygments_lexer": "ipython3",
   "version": "3.7.13"
  }
 },
 "nbformat": 4,
 "nbformat_minor": 5
}
