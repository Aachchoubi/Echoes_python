{
 "cells": [
  {
   "cell_type": "markdown",
   "id": "6e7d61e6-6dea-468d-9f0b-a61c29f7d331",
   "metadata": {
    "tags": []
   },
   "source": [
    "# Homogenization of a cracked medium"
   ]
  },
  {
   "cell_type": "markdown",
   "id": "291f7cb4-a92f-4193-8135-b5e73725b612",
   "metadata": {
    "citation-manager": {
     "citations": {
      "gzrbj": [
       {
        "id": "13263233/ZCGK3B63",
        "source": "zotero"
       }
      ]
     }
    },
    "tags": []
   },
   "source": [
    "## Elastic stiffness of a heterogeneous medium\n",
    "\n",
    "Consider an elastic matrix of stiffness $\\mathbb{C}_s=3k_s\\mathbb{J}+2\\mu_s\\mathbb{K}$ (and compliance $\\mathbb{S}_s=\\mathbb{C}_s^{-1}$) embedding $N$ families of similar ellipsoids (in each family the ellipsoids have the same shape and orientation). The domain occupied by the matrix is denoted $\\Omega^s$ and the families of ellipsoids $\\Omega^i (1\\leq i\\leq N)$. The spatial average over a domain $\\omega$ is denoted by $<\\bullet>_\\omega$.\n",
    "\n",
    "The macroscopic strain $\\mathbf{E}$ writes\n",
    "<a id=\"eq-macrostrain\"></a>\n",
    "\\begin{equation}\n",
    "\\tag{macrostrain}\n",
    "\\mathbf{E}=<\\mathbf{\\varepsilon}>=\\mathbb{S}_s:\\mathbf{\\Sigma}+\\sum_{i=1}^N f_i<\\mathbf{\\varepsilon}-\\mathbb{S}_s:\\mathbf{\\sigma}>_{\\Omega^i}\n",
    "\\end{equation}\n",
    "where $\\mathbf{\\Sigma}$ is the macroscopic stress, $\\mathbf{\\sigma}$ are the microscopic stress field and $f_i$ is the volume fraction of the $i^\\textrm{th}$ family of cracks. Note that the boundary conditions applied on the representative volume element (RVE) can be of homogeneous strain or strain types (see <cite id=\"gzrbj\"><a href=\"#zotero%7C13263233%2FZCGK3B63\">(Zaoui, 1997)</a></cite>\n",
    "\n",
    "\n",
    "\n",
    "<a id=\"eq-eigenstrain\"></a>\n",
    "\\begin{equation}\n",
    "\\tag{eigenstrain}\n",
    "\\forall \\underline{x}\\in \\Omega_i \\quad \\mathbf{\\varepsilon}=\\mathbb{S}_s:\\mathbf{\\sigma}+\\mathbf{\\varepsilon}^*_i\n",
    "\\end{equation}\n",
    "\n",
    "The strategy usually implemented in homogenization schemes consists in estimating the so-called compliance contribution tensors linearly relating "
   ]
  },
  {
   "cell_type": "code",
   "execution_count": 1,
   "id": "f18e2f0d-0e43-4653-b867-90e1528edcb6",
   "metadata": {},
   "outputs": [
    {
     "ename": "RuntimeError",
     "evalue": "FATAL: module compiled as little endian, but detected different endianness at runtime",
     "output_type": "error",
     "traceback": [
      "\u001b[1;31m---------------------------------------------------------------------------\u001b[0m",
      "\u001b[1;31mRuntimeError\u001b[0m                              Traceback (most recent call last)",
      "\u001b[1;31mRuntimeError\u001b[0m: FATAL: module compiled as little endian, but detected different endianness at runtime"
     ]
    }
   ],
   "source": [
    "from echoes import *"
   ]
  },
  {
   "cell_type": "markdown",
   "id": "0f58d2f0-6797-4f30-bf2f-c6d05c4b0030",
   "metadata": {},
   "source": []
  },
  {
   "cell_type": "markdown",
   "id": "9cb70fd1-8de4-4bab-a5a6-0874f547ade8",
   "metadata": {},
   "source": []
  },
  {
   "cell_type": "markdown",
   "id": "8b1849d8-50ed-45e4-a205-16bf0b72c62d",
   "metadata": {
    "tags": []
   },
   "source": [
    "## References\n",
    "\n",
    "<!-- BIBLIOGRAPHY START -->\n",
    "<div class=\"csl-bib-body\">\n",
    "  <div class=\"csl-entry\"><i id=\"zotero|13263233/ZCGK3B63\"></i>Zaoui, A., 1997. Matériaux hétérogènes et composites. Cours de l’École Polytechnique.</div>\n",
    "</div>\n",
    "<!-- BIBLIOGRAPHY END -->"
   ]
  },
  {
   "cell_type": "code",
   "execution_count": null,
   "id": "8d1eff84-accf-4fb4-909b-62757532c36c",
   "metadata": {},
   "outputs": [],
   "source": []
  }
 ],
 "metadata": {
  "citation-manager": {
   "items": {
    "zotero": {
     "13263233/ZCGK3B63": {
      "author": [
       {
        "family": "Zaoui",
        "given": "A"
       }
      ],
      "id": "13263233/ZCGK3B63",
      "issued": {
       "date-parts": [
        [
         1997
        ]
       ]
      },
      "publisher": "Cours de l'École Polytechnique",
      "system_id": "zotero|13263233/ZCGK3B63",
      "title": "Matériaux hétérogènes et composites",
      "type": "book"
     }
    }
   },
   "style": "elsevier-harvard2.csl"
  },
  "kernelspec": {
   "display_name": "Python 3 (ipykernel)",
   "language": "python",
   "name": "python3"
  },
  "language_info": {
   "codemirror_mode": {
    "name": "ipython",
    "version": 3
   },
   "file_extension": ".py",
   "mimetype": "text/x-python",
   "name": "python",
   "nbconvert_exporter": "python",
   "pygments_lexer": "ipython3",
   "version": "3.7.13"
  },
  "vscode": {
   "interpreter": {
    "hash": "52634da84371cba311ea128a5ea7cdc41ff074b781779e754b270ff9f8153cee"
   }
  }
 },
 "nbformat": 4,
 "nbformat_minor": 5
}
